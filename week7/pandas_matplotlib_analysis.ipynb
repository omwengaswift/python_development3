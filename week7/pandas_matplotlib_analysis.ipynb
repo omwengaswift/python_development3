{
 "cells": [
  {
   "cell_type": "markdown",
   "metadata": {},
   "source": [
    "# 📘 Assignment: Analyzing Data with Pandas and Visualizing Results with Matplotlib\n",
    "\n",
    "This notebook covers dataset loading, cleaning, basic analysis, and visualization."
   ]
  },
  {
   "cell_type": "code",
   "execution_count": null,
   "metadata": {},
   "outputs": [],
   "source": [
    "import pandas as pd\n",
    "import matplotlib.pyplot as plt\n",
    "import seaborn as sns\n",
    "\n",
    "# Optional: Make plots look better\n",
    "sns.set(style=\"whitegrid\", palette=\"muted\")"
   ]
  },
  {
   "cell_type": "markdown",
   "metadata": {},
   "source": [
    "## Task 1: Load and Explore the Dataset"
   ]
  },
  {
   "cell_type": "code",
   "execution_count": null,
   "metadata": {},
   "outputs": [],
   "source": [
    "# Load dataset (Iris from seaborn)\n",
    "df = sns.load_dataset(\"iris\")\n",
    "\n",
    "# Display first few rows\n",
    "display(df.head())\n",
    "\n",
    "# Dataset info\n",
    "print(\"\\nDataset Info:\")\n",
    "print(df.info())\n",
    "\n",
    "# Check missing values\n",
    "print(\"\\nMissing values per column:\")\n",
    "print(df.isnull().sum())\n",
    "\n",
    "# Clean missing values if any\n",
    "df = df.dropna()"
   ]
  },
  {
   "cell_type": "markdown",
   "metadata": {},
   "source": [
    "## Task 2: Basic Data Analysis"
   ]
  },
  {
   "cell_type": "code",
   "execution_count": null,
   "metadata": {},
   "outputs": [],
   "source": [
    "# Descriptive statistics\n",
    "display(df.describe())\n",
    "\n",
    "# Grouping example\n",
    "grouped = df.groupby(\"species\")[\"petal_length\"].mean()\n",
    "print(\"Average petal length by species:\")\n",
    "print(grouped)"
   ]
  },
  {
   "cell_type": "markdown",
   "metadata": {},
   "source": [
    "## Task 3: Data Visualization"
   ]
  },
  {
   "cell_type": "code",
   "execution_count": null,
   "metadata": {},
   "outputs": [],
   "source": [
    "# 1. Line chart (trend)\n",
    "plt.figure(figsize=(8,5))\n",
    "plt.plot(df.index[:30], df[\"sepal_length\"][:30], marker=\"o\")\n",
    "plt.title(\"Sepal Length Trend (First 30 Samples)\")\n",
    "plt.xlabel(\"Sample Index\")\n",
    "plt.ylabel(\"Sepal Length\")\n",
    "plt.show()\n",
    "\n",
    "# 2. Bar chart\n",
    "plt.figure(figsize=(7,5))\n",
    "sns.barplot(x=\"species\", y=\"petal_length\", data=df, estimator=\"mean\", ci=None)\n",
    "plt.title(\"Average Petal Length by Species\")\n",
    "plt.xlabel(\"Species\")\n",
    "plt.ylabel(\"Average Petal Length\")\n",
    "plt.show()\n",
    "\n",
    "# 3. Histogram\n",
    "plt.figure(figsize=(7,5))\n",
    "plt.hist(df[\"sepal_width\"], bins=15, color=\"skyblue\", edgecolor=\"black\")\n",
    "plt.title(\"Distribution of Sepal Width\")\n",
    "plt.xlabel(\"Sepal Width\")\n",
    "plt.ylabel(\"Frequency\")\n",
    "plt.show()\n",
    "\n",
    "# 4. Scatter plot\n",
    "plt.figure(figsize=(7,5))\n",
    "sns.scatterplot(x=\"sepal_length\", y=\"petal_length\", hue=\"species\", data=df)\n",
    "plt.title(\"Sepal Length vs Petal Length\")\n",
    "plt.xlabel(\"Sepal Length\")\n",
    "plt.ylabel(\"Petal Length\")\n",
    "plt.legend(title=\"Species\")\n",
    "plt.show()"
   ]
  },
  {
   "cell_type": "markdown",
   "metadata": {},
   "source": [
    "## Findings / Observations\n",
    "- No missing values in the Iris dataset.\n",
    "- Each species shows distinct average petal lengths.\n",
    "- Sepal width distribution is approximately normal.\n",
    "- Scatter plot shows clustering that separates species visually."
   ]
  }
 ],
 "metadata": {
  "kernelspec": {
   "display_name": "Python 3 (ipykernel)",
   "language": "python",
   "name": "python3"
  },
  "language_info": {
   "codemirror_mode": {
    "name": "ipython",
    "version": 3
   },
   "file_extension": ".py",
   "mimetype": "text/x-python",
   "name": "python",
   "nbconvert_exporter": "python",
   "pygments_lexer": "ipython3",
   "version": "3.10.9"
  }
 },
 "nbformat": 4,
 "nbformat_minor": 2
}
